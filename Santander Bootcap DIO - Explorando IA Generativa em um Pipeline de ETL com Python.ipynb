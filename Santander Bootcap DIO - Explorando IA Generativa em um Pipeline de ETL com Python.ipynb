{
 "cells": [
  {
   "cell_type": "code",
   "execution_count": 56,
   "id": "13cfebf8",
   "metadata": {
    "ExecuteTime": {
     "end_time": "2023-10-15T21:47:31.174528Z",
     "start_time": "2023-10-15T21:47:31.145985Z"
    }
   },
   "outputs": [
    {
     "name": "stdout",
     "output_type": "stream",
     "text": [
      "   id_venda data_venda  qtde  produto  valor_unidade  valor_total\n",
      "0         1 2023-10-01     2    calca            300          600\n",
      "1         2 2023-10-01     3     meia             30           90\n",
      "2         3 2023-10-01     1    calca            300          300\n",
      "3         4 2023-10-01     1   camisa            150          150\n",
      "4         5 2023-10-01     2  gravata             50          100\n"
     ]
    }
   ],
   "source": [
    "import pandas as pd\n",
    "\n",
    "df = pd.read_excel('vendasloja.xlsx')\n",
    "print(df.head())"
   ]
  },
  {
   "cell_type": "code",
   "execution_count": 57,
   "id": "7b4b2e99",
   "metadata": {
    "ExecuteTime": {
     "end_time": "2023-10-15T21:47:32.212644Z",
     "start_time": "2023-10-15T21:47:32.200676Z"
    }
   },
   "outputs": [
    {
     "name": "stdout",
     "output_type": "stream",
     "text": [
      "Total de Vendas por Produto:\n",
      "produto\n",
      "calca      8400\n",
      "camisa     3600\n",
      "gravata    1250\n",
      "meia       1230\n",
      "Name: valor_total, dtype: int64\n",
      "\n",
      "Total de Vendas por dia por produto:\n",
      "data_venda\n",
      "2023-10-01    2450\n",
      "2023-10-02    3320\n",
      "2023-10-03    1830\n",
      "2023-10-04    3260\n",
      "2023-10-05    3620\n",
      "Name: valor_total, dtype: int64\n"
     ]
    }
   ],
   "source": [
    "# Calculando o total de vendas por produto\n",
    "vendas_por_produto = df.groupby('produto')['valor_total'].sum()\n",
    "\n",
    "# Calculando o total de vendas por dia por produto\n",
    "vendas_produto_dia = df.groupby('data_venda')['valor_total'].sum()\n",
    "\n",
    "# Visualizando os resultados das transformações\n",
    "print(\"Total de Vendas por Produto:\")\n",
    "print(vendas_por_produto)\n",
    "\n",
    "print(\"\\nTotal de Vendas por dia por produto:\")\n",
    "print(vendas_produto_dia)\n"
   ]
  },
  {
   "cell_type": "code",
   "execution_count": 58,
   "id": "ab2d1962",
   "metadata": {
    "ExecuteTime": {
     "end_time": "2023-10-15T21:47:33.287895Z",
     "start_time": "2023-10-15T21:47:33.263960Z"
    }
   },
   "outputs": [
    {
     "name": "stdout",
     "output_type": "stream",
     "text": [
      "0    30.0\n",
      "1     4.5\n",
      "2    15.0\n",
      "3     7.5\n",
      "4     5.0\n",
      "Name: cashback, dtype: float64\n",
      "   id_venda data_venda  qtde  produto  valor_unidade  valor_total  cashback  \\\n",
      "0         1 2023-10-01     2    calca            300          600      30.0   \n",
      "1         2 2023-10-01     3     meia             30           90       4.5   \n",
      "2         3 2023-10-01     1    calca            300          300      15.0   \n",
      "3         4 2023-10-01     1   camisa            150          150       7.5   \n",
      "4         5 2023-10-01     2  gravata             50          100       5.0   \n",
      "\n",
      "                                   mensagem_cashback  \n",
      "0  (Obrigado por comprar conosco. Sua compra gero...  \n",
      "1  (Obrigado por comprar conosco. Sua compra gero...  \n",
      "2  (Obrigado por comprar conosco. Sua compra gero...  \n",
      "3  (Obrigado por comprar conosco. Sua compra gero...  \n",
      "4  (Obrigado por comprar conosco. Sua compra gero...  \n"
     ]
    }
   ],
   "source": [
    "#Nossa loja também resolveu dar um cashback de 5% em cada compra. Então vamos criar uma coluna com o valor do cashback gerado em cada compra. \n",
    "df['cashback'] = df['valor_total']*0.05\n",
    "print (df['cashback'].head())\n",
    "#Vamos gerar também uma coluna com uma mensagem para cada cliente, informando o valor do cashback gerado\n",
    "def formatar_mensagem(valor):\n",
    "    return f\"(Obrigado por comprar conosco. Sua compra gerou um cashback no valor de R$ {valor:.2f})\"\n",
    "\n",
    "df['mensagem_cashback'] = df['cashback'].apply(formatar_mensagem)\n",
    "print(df.head())"
   ]
  },
  {
   "cell_type": "code",
   "execution_count": 59,
   "id": "86f3aafb",
   "metadata": {
    "ExecuteTime": {
     "end_time": "2023-10-15T21:47:34.158473Z",
     "start_time": "2023-10-15T21:47:34.143482Z"
    }
   },
   "outputs": [],
   "source": [
    "# Salvando os dados transformados em um arquivo CSV\n",
    "vendas_por_produto.to_csv(\"vendas_por_produto.csv\")\n",
    "vendas_produto_dia.to_csv(\"vendas_por_produto_por_dia.csv\")\n",
    "df.to_csv(\"vendasloja_modificado.csv\")"
   ]
  },
  {
   "cell_type": "code",
   "execution_count": null,
   "id": "222cb886",
   "metadata": {},
   "outputs": [],
   "source": []
  }
 ],
 "metadata": {
  "kernelspec": {
   "display_name": "Python 3 (ipykernel)",
   "language": "python",
   "name": "python3"
  },
  "language_info": {
   "codemirror_mode": {
    "name": "ipython",
    "version": 3
   },
   "file_extension": ".py",
   "mimetype": "text/x-python",
   "name": "python",
   "nbconvert_exporter": "python",
   "pygments_lexer": "ipython3",
   "version": "3.9.13"
  },
  "toc": {
   "base_numbering": 1,
   "nav_menu": {},
   "number_sections": true,
   "sideBar": true,
   "skip_h1_title": false,
   "title_cell": "Table of Contents",
   "title_sidebar": "Contents",
   "toc_cell": false,
   "toc_position": {},
   "toc_section_display": true,
   "toc_window_display": false
  },
  "varInspector": {
   "cols": {
    "lenName": 16,
    "lenType": 16,
    "lenVar": 40
   },
   "kernels_config": {
    "python": {
     "delete_cmd_postfix": "",
     "delete_cmd_prefix": "del ",
     "library": "var_list.py",
     "varRefreshCmd": "print(var_dic_list())"
    },
    "r": {
     "delete_cmd_postfix": ") ",
     "delete_cmd_prefix": "rm(",
     "library": "var_list.r",
     "varRefreshCmd": "cat(var_dic_list()) "
    }
   },
   "types_to_exclude": [
    "module",
    "function",
    "builtin_function_or_method",
    "instance",
    "_Feature"
   ],
   "window_display": false
  }
 },
 "nbformat": 4,
 "nbformat_minor": 5
}
